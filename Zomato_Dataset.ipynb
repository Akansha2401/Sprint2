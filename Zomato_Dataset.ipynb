{
 "cells": [
  {
   "cell_type": "markdown",
   "id": "8d3cf9d8-b29d-49f2-bcdd-8741e1136ece",
   "metadata": {},
   "source": [
    "# **Project Name: Zomato Dataset Analysis**\n",
    "\n",
    "**By,**\n",
    "\n",
    "**Akansha Kotian** and **Faisal Shaikh**"
   ]
  },
  {
   "cell_type": "markdown",
   "id": "5b13a65f-b97a-4456-aa72-f0faef0deab2",
   "metadata": {},
   "source": [
    "# **Problem Statement**"
   ]
  },
  {
   "cell_type": "markdown",
   "id": "4ad407a5-249a-4b1b-b881-00fca2792a9c",
   "metadata": {},
   "source": [
    "The project focuses on analyzing restaurant and order data to gain insights into the operational and customer trends in the food service industry. With the increasing demand for data-driven decisions, this analysis seeks to address key aspects of restaurant performance, customer preferences, and service availability."
   ]
  },
  {
   "cell_type": "markdown",
   "id": "8aafbd14-71de-4293-a40e-b37f43e08375",
   "metadata": {},
   "source": [
    "# **Objective**"
   ]
  },
  {
   "cell_type": "markdown",
   "id": "086463a8-2742-4d1b-be3f-5e1d22476a2e",
   "metadata": {},
   "source": [
    "1.Restaurant Performance Analysis\n",
    "Evaluate restaurants based on ratings, average costs, and cuisines to identify trends in customer preferences and the factors driving high performance.\n",
    "\n",
    "2.Order Insights\n",
    "Analyze customer order patterns, including order amounts and delivery statuses, to uncover insights into customer behavior and operational efficiency.\n",
    "\n",
    "3.Service Availability\n",
    "Investigate the availability of online delivery and table booking services to determine their prevalence and impact on customer satisfaction.\n",
    "\n",
    "4.Visual Representation\n",
    "Use data visualization techniques to present key findings in an easily understandable format for stakeholders, enabling better decision-making.\n",
    "\n"
   ]
  },
  {
   "cell_type": "markdown",
   "id": "5900adf9-e9c7-45b9-ae51-30678f47a432",
   "metadata": {},
   "source": [
    "# *Import necessary packages*"
   ]
  },
  {
   "cell_type": "code",
   "execution_count": 97,
   "id": "1b16611d-68b4-4bb2-89c4-2787e3674455",
   "metadata": {},
   "outputs": [
    {
     "name": "stdout",
     "output_type": "stream",
     "text": [
      "Requirement already satisfied: mysql-connector in c:\\users\\akans\\appdata\\local\\programs\\python\\python310\\lib\\site-packages (2.2.9)\n",
      "Note: you may need to restart the kernel to use updated packages.\n"
     ]
    },
    {
     "name": "stderr",
     "output_type": "stream",
     "text": [
      "\n",
      "[notice] A new release of pip is available: 23.0.1 -> 24.3.1\n",
      "[notice] To update, run: python.exe -m pip install --upgrade pip\n"
     ]
    }
   ],
   "source": [
    "pip install mysql-connector"
   ]
  },
  {
   "cell_type": "code",
   "execution_count": 98,
   "id": "25fbb945-e9a8-4738-ac5c-6cfed068bc39",
   "metadata": {},
   "outputs": [
    {
     "name": "stdout",
     "output_type": "stream",
     "text": [
      "Requirement already satisfied: mysql-connector in c:\\users\\akans\\appdata\\local\\programs\\python\\python310\\lib\\site-packages (2.2.9)\n",
      "Note: you may need to restart the kernel to use updated packages.\n"
     ]
    },
    {
     "name": "stderr",
     "output_type": "stream",
     "text": [
      "\n",
      "[notice] A new release of pip is available: 23.0.1 -> 24.3.1\n",
      "[notice] To update, run: python.exe -m pip install --upgrade pip\n"
     ]
    }
   ],
   "source": [
    "pip install --upgrade mysql-connector"
   ]
  },
  {
   "cell_type": "code",
   "execution_count": 99,
   "id": "ec26d149-8556-4805-b086-40f99525fc23",
   "metadata": {},
   "outputs": [
    {
     "name": "stdout",
     "output_type": "stream",
     "text": [
      "Requirement already satisfied: plotly in c:\\users\\akans\\appdata\\local\\programs\\python\\python310\\lib\\site-packages (5.24.1)\n",
      "Requirement already satisfied: tenacity>=6.2.0 in c:\\users\\akans\\appdata\\local\\programs\\python\\python310\\lib\\site-packages (from plotly) (9.0.0)\n",
      "Requirement already satisfied: packaging in c:\\users\\akans\\appdata\\local\\programs\\python\\python310\\lib\\site-packages (from plotly) (23.2)\n",
      "Note: you may need to restart the kernel to use updated packages.\n"
     ]
    },
    {
     "name": "stderr",
     "output_type": "stream",
     "text": [
      "\n",
      "[notice] A new release of pip is available: 23.0.1 -> 24.3.1\n",
      "[notice] To update, run: python.exe -m pip install --upgrade pip\n"
     ]
    }
   ],
   "source": [
    "pip install plotly"
   ]
  },
  {
   "cell_type": "code",
   "execution_count": 100,
   "id": "0e4ea585-57cf-48f4-b483-eadffbda1b96",
   "metadata": {},
   "outputs": [
    {
     "name": "stdout",
     "output_type": "stream",
     "text": [
      "Requirement already satisfied: pymysql in c:\\users\\akans\\appdata\\local\\programs\\python\\python310\\lib\\site-packages (1.1.1)\n"
     ]
    },
    {
     "name": "stderr",
     "output_type": "stream",
     "text": [
      "\n",
      "[notice] A new release of pip is available: 23.0.1 -> 24.3.1\n",
      "[notice] To update, run: python.exe -m pip install --upgrade pip\n"
     ]
    }
   ],
   "source": [
    "!pip install pymysql"
   ]
  },
  {
   "cell_type": "code",
   "execution_count": 101,
   "id": "886e087b-da82-46a7-ac8e-285dc3b8d257",
   "metadata": {},
   "outputs": [
    {
     "name": "stdout",
     "output_type": "stream",
     "text": [
      "Requirement already satisfied: pymysql in c:\\users\\akans\\appdata\\local\\programs\\python\\python310\\lib\\site-packages (1.1.1)\n"
     ]
    },
    {
     "name": "stderr",
     "output_type": "stream",
     "text": [
      "\n",
      "[notice] A new release of pip is available: 23.0.1 -> 24.3.1\n",
      "[notice] To update, run: python.exe -m pip install --upgrade pip\n"
     ]
    }
   ],
   "source": [
    "!pip3 install pymysql"
   ]
  },
  {
   "cell_type": "code",
   "execution_count": 102,
   "id": "c301931f-73b6-4ccd-b89d-2882f70db16d",
   "metadata": {},
   "outputs": [
    {
     "name": "stdout",
     "output_type": "stream",
     "text": [
      "Requirement already satisfied: cryptography in c:\\users\\akans\\appdata\\local\\programs\\python\\python310\\lib\\site-packages (44.0.0)\n",
      "Requirement already satisfied: cffi>=1.12 in c:\\users\\akans\\appdata\\local\\programs\\python\\python310\\lib\\site-packages (from cryptography) (1.16.0)\n",
      "Requirement already satisfied: pycparser in c:\\users\\akans\\appdata\\local\\programs\\python\\python310\\lib\\site-packages (from cffi>=1.12->cryptography) (2.21)\n",
      "Note: you may need to restart the kernel to use updated packages.\n"
     ]
    },
    {
     "name": "stderr",
     "output_type": "stream",
     "text": [
      "\n",
      "[notice] A new release of pip is available: 23.0.1 -> 24.3.1\n",
      "[notice] To update, run: python.exe -m pip install --upgrade pip\n"
     ]
    }
   ],
   "source": [
    "pip install cryptography"
   ]
  },
  {
   "cell_type": "code",
   "execution_count": 103,
   "id": "e3b4cc70-afb6-4dc3-b5f8-f26b2151dba3",
   "metadata": {},
   "outputs": [
    {
     "name": "stdout",
     "output_type": "stream",
     "text": [
      "Requirement already satisfied: pyodbc in c:\\users\\akans\\appdata\\local\\programs\\python\\python310\\lib\\site-packages (5.2.0)\n",
      "Note: you may need to restart the kernel to use updated packages.\n"
     ]
    },
    {
     "name": "stderr",
     "output_type": "stream",
     "text": [
      "\n",
      "[notice] A new release of pip is available: 23.0.1 -> 24.3.1\n",
      "[notice] To update, run: python.exe -m pip install --upgrade pip\n"
     ]
    }
   ],
   "source": [
    "pip install pyodbc"
   ]
  },
  {
   "cell_type": "markdown",
   "id": "67feebb1-f877-47e1-abdb-c43dd8936189",
   "metadata": {},
   "source": [
    "**Insight**   \n",
    "Installing all necessary packages"
   ]
  },
  {
   "cell_type": "code",
   "execution_count": 104,
   "id": "786d7881-06f2-47ba-903d-6b9def47b5fb",
   "metadata": {},
   "outputs": [],
   "source": [
    "import mysql.connector\n",
    "import pyodbc\n",
    "import pandas as pd\n",
    "import matplotlib.pyplot as plt\n",
    "import seaborn as sns\n",
    "#import plotly.express as p"
   ]
  },
  {
   "cell_type": "markdown",
   "id": "e730e0f0-419e-4cba-baa3-5f2657ab2057",
   "metadata": {},
   "source": [
    "**Insight**   \n",
    "Imported all necessary packages"
   ]
  },
  {
   "cell_type": "code",
   "execution_count": 105,
   "id": "692785cf-f659-47c6-8952-d20d1af11b40",
   "metadata": {},
   "outputs": [],
   "source": [
    "connection = pyodbc.connect(\n",
    "    'DRIVER={ODBC Driver 17 for SQL Server};'\n",
    "    'SERVER=localhost;'\n",
    "    'DATABASE=Zomato;'\n",
    "    'UID=sa;'\n",
    "    'PWD=admin'\n",
    ")"
   ]
  },
  {
   "cell_type": "markdown",
   "id": "6bd86997-1cc2-4fea-96bd-6eaec4087235",
   "metadata": {},
   "source": [
    "**Insight :**\n",
    "\n",
    "The code establishes a connection to a locally hosted MySQL database (finance) using the mysql.connector.connect method, allowing you to perform SQL operations in Python. Ensure to manage sensitive data securely and handle errors appropriately.\n",
    "\n"
   ]
  },
  {
   "cell_type": "markdown",
   "id": "f9334336-6646-4ec2-9a4d-e564d0a87963",
   "metadata": {},
   "source": [
    "# *Exploratory Data Analysis*\n"
   ]
  },
  {
   "cell_type": "code",
   "execution_count": 168,
   "id": "c881d049-23ad-430f-b403-fd2482d81ce3",
   "metadata": {},
   "outputs": [
    {
     "name": "stdout",
     "output_type": "stream",
     "text": [
      "Restaurants Data:\n",
      "   Restaurant_ID  Restaurant_Name       City   Cuisine  Average_Cost  Rating  \\\n",
      "0              1    The Spice Lab     Mumbai    Indian         800.0     4.5   \n",
      "1              2      Sushi World  Bangalore  Japanese        1200.0     4.8   \n",
      "2              3   Pasta Paradise      Delhi   Italian         700.0     4.2   \n",
      "3              4       Burger Hub       Pune  American         500.0     3.9   \n",
      "4              5  Tandoori Treats     Mumbai    Indian         900.0     4.6   \n",
      "\n",
      "  Online_Delivery Table_Booking  \n",
      "0             Yes            No  \n",
      "1             Yes           Yes  \n",
      "2              No           Yes  \n",
      "3             Yes            No  \n",
      "4              No           Yes  \n"
     ]
    },
    {
     "name": "stderr",
     "output_type": "stream",
     "text": [
      "C:\\Users\\akans\\AppData\\Local\\Temp\\ipykernel_13452\\1021749049.py:3: UserWarning: pandas only supports SQLAlchemy connectable (engine/connection) or database string URI or sqlite3 DBAPI2 connection. Other DBAPI2 objects are not tested. Please consider using SQLAlchemy.\n",
      "  restaurants_data = pd.read_sql(query_restaurants, connection)\n"
     ]
    }
   ],
   "source": [
    "# Query for the first table, e.g., Restaurants\n",
    "query_restaurants = 'SELECT * FROM Restaurants'\n",
    "restaurants_data = pd.read_sql(query_restaurants, connection)\n",
    "# Display first few rows of each DataFrame\n",
    "print(\"Restaurants Data:\")\n",
    "print(restaurants_data.head())"
   ]
  },
  {
   "cell_type": "markdown",
   "id": "0835455c-7c83-4ec7-959c-e7b00d226ccc",
   "metadata": {},
   "source": [
    "**Insight :**\n",
    "\n",
    "The `Restaurants` table provides key information about restaurants, including their names, locations, cuisines, average costs, ratings, and service options like online delivery and table booking. This data helps analyze restaurant performance and customer service preferences."
   ]
  },
  {
   "cell_type": "code",
   "execution_count": 107,
   "id": "accbfeea-ff7b-454c-a6c6-8977f545cf36",
   "metadata": {},
   "outputs": [
    {
     "name": "stdout",
     "output_type": "stream",
     "text": [
      "\n",
      "Orders Data:\n",
      "   Order_ID  Restaurant_ID Customer_Name  Order_Date  Order_Amount  \\\n",
      "0         1              1      John Doe  2024-12-10         800.0   \n",
      "1         2              2    Jane Smith  2024-12-11        1200.0   \n",
      "2         3              3    Amit Kumar  2024-12-12         700.0   \n",
      "3         4              4      Sara Ali  2024-12-13         500.0   \n",
      "4         5              5   Rahul Mehta  2024-12-14         900.0   \n",
      "\n",
      "  Delivery_Status  \n",
      "0       Delivered  \n",
      "1       Delivered  \n",
      "2         Pending  \n",
      "3       Delivered  \n",
      "4       Cancelled  \n"
     ]
    },
    {
     "name": "stderr",
     "output_type": "stream",
     "text": [
      "C:\\Users\\akans\\AppData\\Local\\Temp\\ipykernel_13452\\295280735.py:3: UserWarning: pandas only supports SQLAlchemy connectable (engine/connection) or database string URI or sqlite3 DBAPI2 connection. Other DBAPI2 objects are not tested. Please consider using SQLAlchemy.\n",
      "  orders_data = pd.read_sql(query_orders, connection)\n"
     ]
    }
   ],
   "source": [
    "# Query for the second table, e.g., Customers\n",
    "query_orders = 'SELECT * FROM Orders'\n",
    "orders_data = pd.read_sql(query_orders, connection)\n",
    "# Display first few rows of each DataFrame\n",
    "print(\"\\nOrders Data:\")\n",
    "print(orders_data.head())"
   ]
  },
  {
   "cell_type": "markdown",
   "id": "2265ed3c-2a05-4c67-b90f-16bc7cffaf5f",
   "metadata": {},
   "source": [
    "**Insight :**\n",
    "\n",
    "The `Orders` table captures details of customer orders, including order IDs, customer names, dates, amounts, and delivery statuses. This data is essential for understanding order trends, customer behavior, and operational efficiency.\n"
   ]
  },
  {
   "cell_type": "code",
   "execution_count": 174,
   "id": "b0e7c3e2-63f7-4fc5-808f-8f9f14a51438",
   "metadata": {},
   "outputs": [
    {
     "data": {
      "text/html": [
       "<div>\n",
       "<style scoped>\n",
       "    .dataframe tbody tr th:only-of-type {\n",
       "        vertical-align: middle;\n",
       "    }\n",
       "\n",
       "    .dataframe tbody tr th {\n",
       "        vertical-align: top;\n",
       "    }\n",
       "\n",
       "    .dataframe thead th {\n",
       "        text-align: right;\n",
       "    }\n",
       "</style>\n",
       "<table border=\"1\" class=\"dataframe\">\n",
       "  <thead>\n",
       "    <tr style=\"text-align: right;\">\n",
       "      <th></th>\n",
       "      <th>Restaurant_ID</th>\n",
       "      <th>Restaurant_Name</th>\n",
       "      <th>City</th>\n",
       "      <th>Cuisine</th>\n",
       "      <th>Average_Cost</th>\n",
       "      <th>Rating</th>\n",
       "      <th>Online_Delivery</th>\n",
       "      <th>Table_Booking</th>\n",
       "      <th>Order_ID</th>\n",
       "      <th>Restaurant_ID</th>\n",
       "      <th>Customer_Name</th>\n",
       "      <th>Order_Date</th>\n",
       "      <th>Order_Amount</th>\n",
       "      <th>Delivery_Status</th>\n",
       "    </tr>\n",
       "  </thead>\n",
       "  <tbody>\n",
       "    <tr>\n",
       "      <th>0</th>\n",
       "      <td>1</td>\n",
       "      <td>The Spice Lab</td>\n",
       "      <td>Mumbai</td>\n",
       "      <td>Indian</td>\n",
       "      <td>800.0</td>\n",
       "      <td>4.5</td>\n",
       "      <td>Yes</td>\n",
       "      <td>No</td>\n",
       "      <td>1</td>\n",
       "      <td>1</td>\n",
       "      <td>John Doe</td>\n",
       "      <td>2024-12-10</td>\n",
       "      <td>800.0</td>\n",
       "      <td>Delivered</td>\n",
       "    </tr>\n",
       "    <tr>\n",
       "      <th>1</th>\n",
       "      <td>2</td>\n",
       "      <td>Sushi World</td>\n",
       "      <td>Bangalore</td>\n",
       "      <td>Japanese</td>\n",
       "      <td>1200.0</td>\n",
       "      <td>4.8</td>\n",
       "      <td>Yes</td>\n",
       "      <td>Yes</td>\n",
       "      <td>2</td>\n",
       "      <td>2</td>\n",
       "      <td>Jane Smith</td>\n",
       "      <td>2024-12-11</td>\n",
       "      <td>1200.0</td>\n",
       "      <td>Delivered</td>\n",
       "    </tr>\n",
       "    <tr>\n",
       "      <th>2</th>\n",
       "      <td>3</td>\n",
       "      <td>Pasta Paradise</td>\n",
       "      <td>Delhi</td>\n",
       "      <td>Italian</td>\n",
       "      <td>700.0</td>\n",
       "      <td>4.2</td>\n",
       "      <td>No</td>\n",
       "      <td>Yes</td>\n",
       "      <td>3</td>\n",
       "      <td>3</td>\n",
       "      <td>Amit Kumar</td>\n",
       "      <td>2024-12-12</td>\n",
       "      <td>700.0</td>\n",
       "      <td>Pending</td>\n",
       "    </tr>\n",
       "    <tr>\n",
       "      <th>3</th>\n",
       "      <td>4</td>\n",
       "      <td>Burger Hub</td>\n",
       "      <td>Pune</td>\n",
       "      <td>American</td>\n",
       "      <td>500.0</td>\n",
       "      <td>3.9</td>\n",
       "      <td>Yes</td>\n",
       "      <td>No</td>\n",
       "      <td>4</td>\n",
       "      <td>4</td>\n",
       "      <td>Sara Ali</td>\n",
       "      <td>2024-12-13</td>\n",
       "      <td>500.0</td>\n",
       "      <td>Delivered</td>\n",
       "    </tr>\n",
       "    <tr>\n",
       "      <th>4</th>\n",
       "      <td>5</td>\n",
       "      <td>Tandoori Treats</td>\n",
       "      <td>Mumbai</td>\n",
       "      <td>Indian</td>\n",
       "      <td>900.0</td>\n",
       "      <td>4.6</td>\n",
       "      <td>No</td>\n",
       "      <td>Yes</td>\n",
       "      <td>5</td>\n",
       "      <td>5</td>\n",
       "      <td>Rahul Mehta</td>\n",
       "      <td>2024-12-14</td>\n",
       "      <td>900.0</td>\n",
       "      <td>Cancelled</td>\n",
       "    </tr>\n",
       "  </tbody>\n",
       "</table>\n",
       "</div>"
      ],
      "text/plain": [
       "   Restaurant_ID  Restaurant_Name       City   Cuisine  Average_Cost  Rating  \\\n",
       "0              1    The Spice Lab     Mumbai    Indian         800.0     4.5   \n",
       "1              2      Sushi World  Bangalore  Japanese        1200.0     4.8   \n",
       "2              3   Pasta Paradise      Delhi   Italian         700.0     4.2   \n",
       "3              4       Burger Hub       Pune  American         500.0     3.9   \n",
       "4              5  Tandoori Treats     Mumbai    Indian         900.0     4.6   \n",
       "\n",
       "  Online_Delivery Table_Booking  Order_ID  Restaurant_ID Customer_Name  \\\n",
       "0             Yes            No         1              1      John Doe   \n",
       "1             Yes           Yes         2              2    Jane Smith   \n",
       "2              No           Yes         3              3    Amit Kumar   \n",
       "3             Yes            No         4              4      Sara Ali   \n",
       "4              No           Yes         5              5   Rahul Mehta   \n",
       "\n",
       "   Order_Date  Order_Amount Delivery_Status  \n",
       "0  2024-12-10         800.0       Delivered  \n",
       "1  2024-12-11        1200.0       Delivered  \n",
       "2  2024-12-12         700.0         Pending  \n",
       "3  2024-12-13         500.0       Delivered  \n",
       "4  2024-12-14         900.0       Cancelled  "
      ]
     },
     "execution_count": 174,
     "metadata": {},
     "output_type": "execute_result"
    }
   ],
   "source": [
    "#Gives first five rows\n",
    "df.head()"
   ]
  },
  {
   "cell_type": "markdown",
   "id": "643bea91-73d8-4e78-89e1-c2bbac0a6062",
   "metadata": {},
   "source": [
    "**Insight**\n",
    "\n",
    "Displays the first 5 rows"
   ]
  },
  {
   "cell_type": "code",
   "execution_count": 176,
   "id": "05565d40-24f1-46e4-936d-ced182d8bdd9",
   "metadata": {},
   "outputs": [
    {
     "data": {
      "text/html": [
       "<div>\n",
       "<style scoped>\n",
       "    .dataframe tbody tr th:only-of-type {\n",
       "        vertical-align: middle;\n",
       "    }\n",
       "\n",
       "    .dataframe tbody tr th {\n",
       "        vertical-align: top;\n",
       "    }\n",
       "\n",
       "    .dataframe thead th {\n",
       "        text-align: right;\n",
       "    }\n",
       "</style>\n",
       "<table border=\"1\" class=\"dataframe\">\n",
       "  <thead>\n",
       "    <tr style=\"text-align: right;\">\n",
       "      <th></th>\n",
       "      <th>Restaurant_ID</th>\n",
       "      <th>Restaurant_Name</th>\n",
       "      <th>City</th>\n",
       "      <th>Cuisine</th>\n",
       "      <th>Average_Cost</th>\n",
       "      <th>Rating</th>\n",
       "      <th>Online_Delivery</th>\n",
       "      <th>Table_Booking</th>\n",
       "      <th>Order_ID</th>\n",
       "      <th>Restaurant_ID</th>\n",
       "      <th>Customer_Name</th>\n",
       "      <th>Order_Date</th>\n",
       "      <th>Order_Amount</th>\n",
       "      <th>Delivery_Status</th>\n",
       "    </tr>\n",
       "  </thead>\n",
       "  <tbody>\n",
       "    <tr>\n",
       "      <th>38</th>\n",
       "      <td>39</td>\n",
       "      <td>Cafe Delight</td>\n",
       "      <td>Mumbai</td>\n",
       "      <td>Cafe</td>\n",
       "      <td>700.0</td>\n",
       "      <td>4.1</td>\n",
       "      <td>No</td>\n",
       "      <td>No</td>\n",
       "      <td>39</td>\n",
       "      <td>39</td>\n",
       "      <td>Aditya Sharma</td>\n",
       "      <td>2024-12-13</td>\n",
       "      <td>650.0</td>\n",
       "      <td>Cancelled</td>\n",
       "    </tr>\n",
       "    <tr>\n",
       "      <th>39</th>\n",
       "      <td>40</td>\n",
       "      <td>Bistro Bites</td>\n",
       "      <td>Bangalore</td>\n",
       "      <td>French</td>\n",
       "      <td>900.0</td>\n",
       "      <td>4.4</td>\n",
       "      <td>Yes</td>\n",
       "      <td>Yes</td>\n",
       "      <td>40</td>\n",
       "      <td>40</td>\n",
       "      <td>Krishna Nair</td>\n",
       "      <td>2024-12-14</td>\n",
       "      <td>850.0</td>\n",
       "      <td>Delivered</td>\n",
       "    </tr>\n",
       "    <tr>\n",
       "      <th>40</th>\n",
       "      <td>41</td>\n",
       "      <td>Pizza Point</td>\n",
       "      <td>Kolkata</td>\n",
       "      <td>Italian</td>\n",
       "      <td>750.0</td>\n",
       "      <td>4.0</td>\n",
       "      <td>Yes</td>\n",
       "      <td>No</td>\n",
       "      <td>41</td>\n",
       "      <td>41</td>\n",
       "      <td>Aarti Menon</td>\n",
       "      <td>2024-12-10</td>\n",
       "      <td>500.0</td>\n",
       "      <td>Pending</td>\n",
       "    </tr>\n",
       "    <tr>\n",
       "      <th>41</th>\n",
       "      <td>42</td>\n",
       "      <td>Spice Street</td>\n",
       "      <td>Mumbai</td>\n",
       "      <td>Indian</td>\n",
       "      <td>950.0</td>\n",
       "      <td>4.3</td>\n",
       "      <td>No</td>\n",
       "      <td>Yes</td>\n",
       "      <td>42</td>\n",
       "      <td>42</td>\n",
       "      <td>Ramesh Iyer</td>\n",
       "      <td>2024-12-11</td>\n",
       "      <td>450.0</td>\n",
       "      <td>Delivered</td>\n",
       "    </tr>\n",
       "    <tr>\n",
       "      <th>42</th>\n",
       "      <td>43</td>\n",
       "      <td>Urban Cuisine</td>\n",
       "      <td>Ahmedabad</td>\n",
       "      <td>Fusion</td>\n",
       "      <td>1100.0</td>\n",
       "      <td>4.5</td>\n",
       "      <td>Yes</td>\n",
       "      <td>Yes</td>\n",
       "      <td>43</td>\n",
       "      <td>43</td>\n",
       "      <td>Swati Kulkarni</td>\n",
       "      <td>2024-12-12</td>\n",
       "      <td>1200.0</td>\n",
       "      <td>Delivered</td>\n",
       "    </tr>\n",
       "  </tbody>\n",
       "</table>\n",
       "</div>"
      ],
      "text/plain": [
       "    Restaurant_ID Restaurant_Name       City  Cuisine  Average_Cost  Rating  \\\n",
       "38             39    Cafe Delight     Mumbai     Cafe         700.0     4.1   \n",
       "39             40    Bistro Bites  Bangalore   French         900.0     4.4   \n",
       "40             41     Pizza Point    Kolkata  Italian         750.0     4.0   \n",
       "41             42    Spice Street     Mumbai   Indian         950.0     4.3   \n",
       "42             43   Urban Cuisine  Ahmedabad   Fusion        1100.0     4.5   \n",
       "\n",
       "   Online_Delivery Table_Booking  Order_ID  Restaurant_ID   Customer_Name  \\\n",
       "38              No            No        39             39   Aditya Sharma   \n",
       "39             Yes           Yes        40             40    Krishna Nair   \n",
       "40             Yes            No        41             41     Aarti Menon   \n",
       "41              No           Yes        42             42     Ramesh Iyer   \n",
       "42             Yes           Yes        43             43  Swati Kulkarni   \n",
       "\n",
       "    Order_Date  Order_Amount Delivery_Status  \n",
       "38  2024-12-13         650.0       Cancelled  \n",
       "39  2024-12-14         850.0       Delivered  \n",
       "40  2024-12-10         500.0         Pending  \n",
       "41  2024-12-11         450.0       Delivered  \n",
       "42  2024-12-12        1200.0       Delivered  "
      ]
     },
     "execution_count": 176,
     "metadata": {},
     "output_type": "execute_result"
    }
   ],
   "source": [
    "#Gives last five rows\n",
    "df.tail()"
   ]
  },
  {
   "cell_type": "markdown",
   "id": "ee22b404-9d67-4e5c-a0d6-2bb88b3f5301",
   "metadata": {},
   "source": [
    "**Insight**\n",
    "\n",
    "Displays the last 5 rows"
   ]
  },
  {
   "cell_type": "markdown",
   "id": "4f775107-fa08-4bcc-b2f2-b5173fd7a3df",
   "metadata": {},
   "source": [
    "# *Merging all the columns using foreign key*"
   ]
  },
  {
   "cell_type": "code",
   "execution_count": 109,
   "id": "64137e2e-8527-4098-9f0b-a4535fde252b",
   "metadata": {},
   "outputs": [],
   "source": [
    "# Query to join Restaurants and Orders tables on Restaurant_ID\n",
    "query = \"\"\"\n",
    "SELECT * \n",
    "FROM Restaurants AS r\n",
    "JOIN Orders AS o\n",
    "ON r.Restaurant_ID = o.Restaurant_ID;\n",
    "\"\"\""
   ]
  },
  {
   "cell_type": "markdown",
   "id": "70f24322-2f45-4b12-8067-e4f9f5436165",
   "metadata": {},
   "source": [
    "**Insight :**\n",
    "\n",
    "The joined dataset integrates restaurant details with customer order data, providing a comprehensive view of restaurant performance and order trends. It helps analyze how factors like cuisine, city, and ratings influence customer behavior and order outcomes."
   ]
  },
  {
   "cell_type": "code",
   "execution_count": 110,
   "id": "dbe6cd49-4569-45df-98ad-e63e6fd26dc6",
   "metadata": {},
   "outputs": [
    {
     "name": "stdout",
     "output_type": "stream",
     "text": [
      "Joined Data (Restaurants + Orders):\n",
      "   Restaurant_ID  Restaurant_Name       City   Cuisine  Average_Cost  Rating  \\\n",
      "0              1    The Spice Lab     Mumbai    Indian         800.0     4.5   \n",
      "1              2      Sushi World  Bangalore  Japanese        1200.0     4.8   \n",
      "2              3   Pasta Paradise      Delhi   Italian         700.0     4.2   \n",
      "3              4       Burger Hub       Pune  American         500.0     3.9   \n",
      "4              5  Tandoori Treats     Mumbai    Indian         900.0     4.6   \n",
      "\n",
      "  Online_Delivery Table_Booking  Order_ID  Restaurant_ID Customer_Name  \\\n",
      "0             Yes            No         1              1      John Doe   \n",
      "1             Yes           Yes         2              2    Jane Smith   \n",
      "2              No           Yes         3              3    Amit Kumar   \n",
      "3             Yes            No         4              4      Sara Ali   \n",
      "4              No           Yes         5              5   Rahul Mehta   \n",
      "\n",
      "   Order_Date  Order_Amount Delivery_Status  \n",
      "0  2024-12-10         800.0       Delivered  \n",
      "1  2024-12-11        1200.0       Delivered  \n",
      "2  2024-12-12         700.0         Pending  \n",
      "3  2024-12-13         500.0       Delivered  \n",
      "4  2024-12-14         900.0       Cancelled  \n"
     ]
    },
    {
     "name": "stderr",
     "output_type": "stream",
     "text": [
      "C:\\Users\\akans\\AppData\\Local\\Temp\\ipykernel_13452\\677084119.py:2: UserWarning: pandas only supports SQLAlchemy connectable (engine/connection) or database string URI or sqlite3 DBAPI2 connection. Other DBAPI2 objects are not tested. Please consider using SQLAlchemy.\n",
      "  df = pd.read_sql(query, connection)\n"
     ]
    }
   ],
   "source": [
    "# Load the query result into a pandas DataFrame\n",
    "df = pd.read_sql(query, connection)\n",
    "\n",
    "# Display the first few rows of the joined data\n",
    "print(\"Joined Data (Restaurants + Orders):\")\n",
    "print(df.head())\n"
   ]
  },
  {
   "cell_type": "markdown",
   "id": "6c12e319-f06f-4c2c-a5e9-650639848eef",
   "metadata": {},
   "source": [
    "**Insight :**\n",
    "\n",
    "The joined data combines restaurant attributes (e.g., name, location, cuisine, and ratings) with order details (e.g., customer name, order date, and amount). This unified view enables analysis of customer preferences, order patterns, and the impact of restaurant features on sales and delivery outcomes."
   ]
  },
  {
   "cell_type": "markdown",
   "id": "d44e74e9-8bfa-4625-bc32-a0ca1e6b4455",
   "metadata": {},
   "source": [
    "# *Details_About_Column*\n",
    "\n",
    "1) **Restaurant_ID**: A unique identifier for each restaurant.\n",
    "2) **Restaurant_Name**: Name of the restaurant.\n",
    "3) **City**: The city where the restaurant is located.\n",
    "4) **Cuisine**: The type of cuisine offered by the restaurant (e.g., Indian, Italian).\n",
    "5) **Average_Cost**: The average cost of a meal at the restaurant in local currency.\n",
    "6) **Rating**: The rating given to the restaurant, typically based on customer reviews.\n",
    "7) **Online_Delivery**: Indicates whether the restaurant offers online delivery (Yes/No).\n",
    "8) **Table_Booking**: Indicates whether the restaurant offers table booking (Yes/No).\n",
    "9) **Order_ID**: A unique identifier for each order placed at the restaurant.\n",
    "10) **Customer_Name**: Name of the customer who placed the order.\n",
    "11) **Order_Date**: The date when the order was placed.\n",
    "12) **Order_Amount**: The total amount spent on the order in local currency.\n",
    "13) **Delivery_Status**: The current status of the order (e.g., Delivered, Pending, Cancelled)."
   ]
  },
  {
   "cell_type": "markdown",
   "id": "acf0d4fd-5458-4d8b-8063-3432f8c4a5b5",
   "metadata": {},
   "source": [
    "# *Data Overview*"
   ]
  },
  {
   "cell_type": "code",
   "execution_count": 115,
   "id": "2a15bfe8-5a3e-4bdf-9f5e-06629289d207",
   "metadata": {},
   "outputs": [
    {
     "data": {
      "text/plain": [
       "(43, 14)"
      ]
     },
     "execution_count": 115,
     "metadata": {},
     "output_type": "execute_result"
    }
   ],
   "source": [
    "# Prints the shape i.e. the row size by column size of the dataset\n",
    "df.shape"
   ]
  },
  {
   "cell_type": "markdown",
   "id": "3fdf4f9a-88be-4fe9-96ff-fd0eeb74ddbb",
   "metadata": {},
   "source": [
    "**Insight :**\n",
    "\n",
    "The `df.shape` gives the total number of records and features after joining the `Restaurants` and `Orders` tables. This provides a snapshot of the dataset's size and complexity for further analysis.\n"
   ]
  },
  {
   "cell_type": "code",
   "execution_count": 169,
   "id": "5cf857d0-dee3-4bdc-b416-e7e3d9bc2fce",
   "metadata": {},
   "outputs": [
    {
     "data": {
      "text/html": [
       "<div>\n",
       "<style scoped>\n",
       "    .dataframe tbody tr th:only-of-type {\n",
       "        vertical-align: middle;\n",
       "    }\n",
       "\n",
       "    .dataframe tbody tr th {\n",
       "        vertical-align: top;\n",
       "    }\n",
       "\n",
       "    .dataframe thead th {\n",
       "        text-align: right;\n",
       "    }\n",
       "</style>\n",
       "<table border=\"1\" class=\"dataframe\">\n",
       "  <thead>\n",
       "    <tr style=\"text-align: right;\">\n",
       "      <th></th>\n",
       "      <th>Restaurant_ID</th>\n",
       "      <th>Average_Cost</th>\n",
       "      <th>Rating</th>\n",
       "      <th>Order_ID</th>\n",
       "      <th>Restaurant_ID</th>\n",
       "      <th>Order_Amount</th>\n",
       "    </tr>\n",
       "  </thead>\n",
       "  <tbody>\n",
       "    <tr>\n",
       "      <th>count</th>\n",
       "      <td>43.000000</td>\n",
       "      <td>43.000000</td>\n",
       "      <td>43.000000</td>\n",
       "      <td>43.000000</td>\n",
       "      <td>43.000000</td>\n",
       "      <td>43.000000</td>\n",
       "    </tr>\n",
       "    <tr>\n",
       "      <th>mean</th>\n",
       "      <td>22.000000</td>\n",
       "      <td>845.348837</td>\n",
       "      <td>4.432558</td>\n",
       "      <td>22.000000</td>\n",
       "      <td>22.000000</td>\n",
       "      <td>791.860465</td>\n",
       "    </tr>\n",
       "    <tr>\n",
       "      <th>std</th>\n",
       "      <td>12.556539</td>\n",
       "      <td>293.949695</td>\n",
       "      <td>0.264324</td>\n",
       "      <td>12.556539</td>\n",
       "      <td>12.556539</td>\n",
       "      <td>251.644646</td>\n",
       "    </tr>\n",
       "    <tr>\n",
       "      <th>min</th>\n",
       "      <td>1.000000</td>\n",
       "      <td>300.000000</td>\n",
       "      <td>3.900000</td>\n",
       "      <td>1.000000</td>\n",
       "      <td>1.000000</td>\n",
       "      <td>400.000000</td>\n",
       "    </tr>\n",
       "    <tr>\n",
       "      <th>25%</th>\n",
       "      <td>11.500000</td>\n",
       "      <td>600.000000</td>\n",
       "      <td>4.250000</td>\n",
       "      <td>11.500000</td>\n",
       "      <td>11.500000</td>\n",
       "      <td>600.000000</td>\n",
       "    </tr>\n",
       "    <tr>\n",
       "      <th>50%</th>\n",
       "      <td>22.000000</td>\n",
       "      <td>850.000000</td>\n",
       "      <td>4.400000</td>\n",
       "      <td>22.000000</td>\n",
       "      <td>22.000000</td>\n",
       "      <td>800.000000</td>\n",
       "    </tr>\n",
       "    <tr>\n",
       "      <th>75%</th>\n",
       "      <td>32.500000</td>\n",
       "      <td>1050.000000</td>\n",
       "      <td>4.600000</td>\n",
       "      <td>32.500000</td>\n",
       "      <td>32.500000</td>\n",
       "      <td>950.000000</td>\n",
       "    </tr>\n",
       "    <tr>\n",
       "      <th>max</th>\n",
       "      <td>43.000000</td>\n",
       "      <td>1500.000000</td>\n",
       "      <td>4.900000</td>\n",
       "      <td>43.000000</td>\n",
       "      <td>43.000000</td>\n",
       "      <td>1300.000000</td>\n",
       "    </tr>\n",
       "  </tbody>\n",
       "</table>\n",
       "</div>"
      ],
      "text/plain": [
       "       Restaurant_ID  Average_Cost     Rating   Order_ID  Restaurant_ID  \\\n",
       "count      43.000000     43.000000  43.000000  43.000000      43.000000   \n",
       "mean       22.000000    845.348837   4.432558  22.000000      22.000000   \n",
       "std        12.556539    293.949695   0.264324  12.556539      12.556539   \n",
       "min         1.000000    300.000000   3.900000   1.000000       1.000000   \n",
       "25%        11.500000    600.000000   4.250000  11.500000      11.500000   \n",
       "50%        22.000000    850.000000   4.400000  22.000000      22.000000   \n",
       "75%        32.500000   1050.000000   4.600000  32.500000      32.500000   \n",
       "max        43.000000   1500.000000   4.900000  43.000000      43.000000   \n",
       "\n",
       "       Order_Amount  \n",
       "count     43.000000  \n",
       "mean     791.860465  \n",
       "std      251.644646  \n",
       "min      400.000000  \n",
       "25%      600.000000  \n",
       "50%      800.000000  \n",
       "75%      950.000000  \n",
       "max     1300.000000  "
      ]
     },
     "execution_count": 169,
     "metadata": {},
     "output_type": "execute_result"
    }
   ],
   "source": [
    "# Gives the overall info of the dataframe object\n",
    "df.describe()"
   ]
  },
  {
   "cell_type": "markdown",
   "id": "88bbd6df-6a2c-4f12-b123-cde3fa7ab846",
   "metadata": {},
   "source": [
    "**Insight :**\n",
    "  \n",
    "It provides statistics like count, mean, standard deviation (std), minimum (min), 25th percentile (25%), median (50%), 75th percentile (75%), and maximum (max) for each numerical column.\n",
    "\n"
   ]
  },
  {
   "cell_type": "code",
   "execution_count": 170,
   "id": "eb18130a-dd2f-4f34-84cc-3f446ae209d4",
   "metadata": {},
   "outputs": [],
   "source": [
    "# for understanding stastical summary we will take Applicant_ID\n",
    "\n",
    "#The count is 43, representing the total number of records in the dataset.\n",
    "\n",
    "#The mean of `Average_Cost` is 845.35, indicating the average meal cost across restaurants.\n",
    "\n",
    "#The standard deviation of `Average_Cost` is 293.95, reflecting the variability in restaurant pricing.\n",
    "\n",
    "#The minimum `Average_Cost` is 300, showing the lowest meal cost in the dataset.\n",
    "\n",
    "#The 25th percentile of `Average_Cost` is 600, meaning 25% of the restaurants have a cost below 600.\n",
    "\n",
    "#The mean rating is 4.43, indicating the average restaurant rating across the dataset.\n",
    "\n",
    "#The minimum rating is 3.90, showing the lowest restaurant rating in the dataset.\n",
    "\n",
    "#The maximum `Order_Amount` is 1300, indicating the highest order amount recorded."
   ]
  },
  {
   "cell_type": "code",
   "execution_count": 117,
   "id": "48b6e58c-f565-4d61-9f9a-7e65abacc289",
   "metadata": {},
   "outputs": [
    {
     "name": "stdout",
     "output_type": "stream",
     "text": [
      "<class 'pandas.core.frame.DataFrame'>\n",
      "RangeIndex: 43 entries, 0 to 42\n",
      "Data columns (total 14 columns):\n",
      " #   Column           Non-Null Count  Dtype  \n",
      "---  ------           --------------  -----  \n",
      " 0   Restaurant_ID    43 non-null     int64  \n",
      " 1   Restaurant_Name  43 non-null     object \n",
      " 2   City             43 non-null     object \n",
      " 3   Cuisine          43 non-null     object \n",
      " 4   Average_Cost     43 non-null     float64\n",
      " 5   Rating           43 non-null     float64\n",
      " 6   Online_Delivery  43 non-null     object \n",
      " 7   Table_Booking    43 non-null     object \n",
      " 8   Order_ID         43 non-null     int64  \n",
      " 9   Restaurant_ID    43 non-null     int64  \n",
      " 10  Customer_Name    43 non-null     object \n",
      " 11  Order_Date       43 non-null     object \n",
      " 12  Order_Amount     43 non-null     float64\n",
      " 13  Delivery_Status  43 non-null     object \n",
      "dtypes: float64(3), int64(3), object(8)\n",
      "memory usage: 4.8+ KB\n"
     ]
    }
   ],
   "source": [
    "# Gives the a concise summary of a DataFrame.\n",
    "df.info()"
   ]
  },
  {
   "cell_type": "markdown",
   "id": "91409d57-3b6a-4af7-8cf6-62c6b5e33665",
   "metadata": {},
   "source": [
    "**Insight :**\n",
    "  \n",
    "It displays the number of non-null entries, data types of each column, memory usage, and the total number of columns and rows. This is useful for understanding the structure of the DataFrame, identifying missing values, and verifying data types before processing or analysis.\n",
    "\n"
   ]
  },
  {
   "cell_type": "markdown",
   "id": "5c7a62c9-6b4e-41e9-9292-743c15c63cf7",
   "metadata": {},
   "source": [
    "# *DATA CLEANING*"
   ]
  },
  {
   "cell_type": "code",
   "execution_count": 111,
   "id": "a08b5a7c-36b5-4d9b-a979-a9d89325d8d1",
   "metadata": {},
   "outputs": [
    {
     "name": "stdout",
     "output_type": "stream",
     "text": [
      "Restaurant_ID      0\n",
      "Restaurant_Name    0\n",
      "City               0\n",
      "Cuisine            0\n",
      "Average_Cost       0\n",
      "Rating             0\n",
      "Online_Delivery    0\n",
      "Table_Booking      0\n",
      "Order_ID           0\n",
      "Restaurant_ID      0\n",
      "Customer_Name      0\n",
      "Order_Date         0\n",
      "Order_Amount       0\n",
      "Delivery_Status    0\n",
      "dtype: int64\n"
     ]
    }
   ],
   "source": [
    "# Check for missing values\n",
    "print(df.isnull().sum())"
   ]
  },
  {
   "cell_type": "markdown",
   "id": "f66ff86f-db09-4bc6-a28d-0bd5fa30ead7",
   "metadata": {},
   "source": [
    "**Insight :**\n",
    "  \n",
    "It helps in identifying which columns have missing data and how many null values exist in each column. This is crucial for handling data cleaning tasks like imputing or removing missing values. \n",
    "\n"
   ]
  },
  {
   "cell_type": "markdown",
   "id": "01686ef2-3303-48e0-817f-a9b96a73c8e1",
   "metadata": {},
   "source": [
    "# *Check for duplicates*"
   ]
  },
  {
   "cell_type": "code",
   "execution_count": 171,
   "id": "be96e454-cea7-40e6-9c38-7131ad2e2fa4",
   "metadata": {},
   "outputs": [
    {
     "name": "stdout",
     "output_type": "stream",
     "text": [
      "Duplicate entries before dropping: 0\n",
      "Duplicate entries after dropping: 0\n"
     ]
    }
   ],
   "source": [
    "print(f\"Duplicate entries before dropping: {df.duplicated().sum()}\")\n",
    "df.drop_duplicates(inplace=True)\n",
    "print(f\"Duplicate entries after dropping: {df.duplicated().sum()}\")"
   ]
  },
  {
   "cell_type": "markdown",
   "id": "91eba484-43b3-4bfa-87fb-57c7c5b99d9a",
   "metadata": {},
   "source": [
    "**Insight :**\n",
    "\n",
    "This code helps to ensure the DataFrame df is free of duplicate rows, making the dataset cleaner and more accurate for analysis.\n",
    "\n"
   ]
  },
  {
   "cell_type": "code",
   "execution_count": 173,
   "id": "829071c9-8bc0-41c8-a2cf-6fbbd4b3aba8",
   "metadata": {},
   "outputs": [
    {
     "data": {
      "text/html": [
       "<div>\n",
       "<style scoped>\n",
       "    .dataframe tbody tr th:only-of-type {\n",
       "        vertical-align: middle;\n",
       "    }\n",
       "\n",
       "    .dataframe tbody tr th {\n",
       "        vertical-align: top;\n",
       "    }\n",
       "\n",
       "    .dataframe thead th {\n",
       "        text-align: right;\n",
       "    }\n",
       "</style>\n",
       "<table border=\"1\" class=\"dataframe\">\n",
       "  <thead>\n",
       "    <tr style=\"text-align: right;\">\n",
       "      <th></th>\n",
       "      <th>Restaurant_ID</th>\n",
       "      <th>Restaurant_Name</th>\n",
       "      <th>City</th>\n",
       "      <th>Cuisine</th>\n",
       "      <th>Average_Cost</th>\n",
       "      <th>Rating</th>\n",
       "      <th>Online_Delivery</th>\n",
       "      <th>Table_Booking</th>\n",
       "      <th>Order_ID</th>\n",
       "      <th>Restaurant_ID</th>\n",
       "      <th>Customer_Name</th>\n",
       "      <th>Order_Date</th>\n",
       "      <th>Order_Amount</th>\n",
       "      <th>Delivery_Status</th>\n",
       "    </tr>\n",
       "  </thead>\n",
       "  <tbody>\n",
       "    <tr>\n",
       "      <th>0</th>\n",
       "      <td>1</td>\n",
       "      <td>The Spice Lab</td>\n",
       "      <td>Mumbai</td>\n",
       "      <td>Indian</td>\n",
       "      <td>800.0</td>\n",
       "      <td>4.5</td>\n",
       "      <td>Yes</td>\n",
       "      <td>No</td>\n",
       "      <td>1</td>\n",
       "      <td>1</td>\n",
       "      <td>John Doe</td>\n",
       "      <td>2024-12-10</td>\n",
       "      <td>800.0</td>\n",
       "      <td>Delivered</td>\n",
       "    </tr>\n",
       "    <tr>\n",
       "      <th>1</th>\n",
       "      <td>2</td>\n",
       "      <td>Sushi World</td>\n",
       "      <td>Bangalore</td>\n",
       "      <td>Japanese</td>\n",
       "      <td>1200.0</td>\n",
       "      <td>4.8</td>\n",
       "      <td>Yes</td>\n",
       "      <td>Yes</td>\n",
       "      <td>2</td>\n",
       "      <td>2</td>\n",
       "      <td>Jane Smith</td>\n",
       "      <td>2024-12-11</td>\n",
       "      <td>1200.0</td>\n",
       "      <td>Delivered</td>\n",
       "    </tr>\n",
       "    <tr>\n",
       "      <th>2</th>\n",
       "      <td>3</td>\n",
       "      <td>Pasta Paradise</td>\n",
       "      <td>Delhi</td>\n",
       "      <td>Italian</td>\n",
       "      <td>700.0</td>\n",
       "      <td>4.2</td>\n",
       "      <td>No</td>\n",
       "      <td>Yes</td>\n",
       "      <td>3</td>\n",
       "      <td>3</td>\n",
       "      <td>Amit Kumar</td>\n",
       "      <td>2024-12-12</td>\n",
       "      <td>700.0</td>\n",
       "      <td>Pending</td>\n",
       "    </tr>\n",
       "    <tr>\n",
       "      <th>3</th>\n",
       "      <td>4</td>\n",
       "      <td>Burger Hub</td>\n",
       "      <td>Pune</td>\n",
       "      <td>American</td>\n",
       "      <td>500.0</td>\n",
       "      <td>3.9</td>\n",
       "      <td>Yes</td>\n",
       "      <td>No</td>\n",
       "      <td>4</td>\n",
       "      <td>4</td>\n",
       "      <td>Sara Ali</td>\n",
       "      <td>2024-12-13</td>\n",
       "      <td>500.0</td>\n",
       "      <td>Delivered</td>\n",
       "    </tr>\n",
       "    <tr>\n",
       "      <th>4</th>\n",
       "      <td>5</td>\n",
       "      <td>Tandoori Treats</td>\n",
       "      <td>Mumbai</td>\n",
       "      <td>Indian</td>\n",
       "      <td>900.0</td>\n",
       "      <td>4.6</td>\n",
       "      <td>No</td>\n",
       "      <td>Yes</td>\n",
       "      <td>5</td>\n",
       "      <td>5</td>\n",
       "      <td>Rahul Mehta</td>\n",
       "      <td>2024-12-14</td>\n",
       "      <td>900.0</td>\n",
       "      <td>Cancelled</td>\n",
       "    </tr>\n",
       "  </tbody>\n",
       "</table>\n",
       "</div>"
      ],
      "text/plain": [
       "   Restaurant_ID  Restaurant_Name       City   Cuisine  Average_Cost  Rating  \\\n",
       "0              1    The Spice Lab     Mumbai    Indian         800.0     4.5   \n",
       "1              2      Sushi World  Bangalore  Japanese        1200.0     4.8   \n",
       "2              3   Pasta Paradise      Delhi   Italian         700.0     4.2   \n",
       "3              4       Burger Hub       Pune  American         500.0     3.9   \n",
       "4              5  Tandoori Treats     Mumbai    Indian         900.0     4.6   \n",
       "\n",
       "  Online_Delivery Table_Booking  Order_ID  Restaurant_ID Customer_Name  \\\n",
       "0             Yes            No         1              1      John Doe   \n",
       "1             Yes           Yes         2              2    Jane Smith   \n",
       "2              No           Yes         3              3    Amit Kumar   \n",
       "3             Yes            No         4              4      Sara Ali   \n",
       "4              No           Yes         5              5   Rahul Mehta   \n",
       "\n",
       "   Order_Date  Order_Amount Delivery_Status  \n",
       "0  2024-12-10         800.0       Delivered  \n",
       "1  2024-12-11        1200.0       Delivered  \n",
       "2  2024-12-12         700.0         Pending  \n",
       "3  2024-12-13         500.0       Delivered  \n",
       "4  2024-12-14         900.0       Cancelled  "
      ]
     },
     "execution_count": 173,
     "metadata": {},
     "output_type": "execute_result"
    }
   ],
   "source": [
    "# Gives the a concise summary of a DataFrame.\n",
    "df.head()"
   ]
  },
  {
   "cell_type": "markdown",
   "id": "6557b768-a14b-4774-b85d-6dce452a6197",
   "metadata": {},
   "source": [
    "**Insight**\n",
    "\n",
    "Displays the first 5 rows"
   ]
  },
  {
   "cell_type": "code",
   "execution_count": 156,
   "id": "dea611c9-8980-4fc1-b165-1387525910be",
   "metadata": {},
   "outputs": [
    {
     "name": "stdout",
     "output_type": "stream",
     "text": [
      "Original columns:\n",
      "Index(['Restaurant_ID', 'Restaurant_Name', 'City', 'Cuisine', 'Average_Cost',\n",
      "       'Rating', 'Online_Delivery', 'Table_Booking', 'Order_ID',\n",
      "       'Restaurant_ID', 'Customer_Name', 'Order_Date', 'Order_Amount',\n",
      "       'Delivery_Status'],\n",
      "      dtype='object')\n",
      "\n",
      "Columns after dropping:\n",
      "Index(['Restaurant_ID', 'Restaurant_Name', 'City', 'Cuisine', 'Average_Cost',\n",
      "       'Rating', 'Online_Delivery', 'Table_Booking', 'Restaurant_ID',\n",
      "       'Order_Amount', 'Delivery_Status'],\n",
      "      dtype='object')\n",
      "\n",
      "Cleaned Data:\n",
      "   Restaurant_ID  Restaurant_Name       City   Cuisine  Average_Cost  Rating  \\\n",
      "0              1    The Spice Lab     Mumbai    Indian         800.0     4.5   \n",
      "1              2      Sushi World  Bangalore  Japanese        1200.0     4.8   \n",
      "2              3   Pasta Paradise      Delhi   Italian         700.0     4.2   \n",
      "3              4       Burger Hub       Pune  American         500.0     3.9   \n",
      "4              5  Tandoori Treats     Mumbai    Indian         900.0     4.6   \n",
      "\n",
      "  Online_Delivery Table_Booking  Restaurant_ID  Order_Amount Delivery_Status  \n",
      "0             Yes            No              1         800.0       Delivered  \n",
      "1             Yes           Yes              2        1200.0       Delivered  \n",
      "2              No           Yes              3         700.0         Pending  \n",
      "3             Yes            No              4         500.0       Delivered  \n",
      "4              No           Yes              5         900.0       Cancelled  \n"
     ]
    }
   ],
   "source": [
    "# Print original columns before dropping\n",
    "print(\"Original columns:\")\n",
    "print(df.columns)\n",
    "\n",
    "# Drop the unnecessary columns\n",
    "df_cleaned = df.drop(columns=['Order_ID', 'Customer_Name', 'Order_Date'])\n",
    "\n",
    "# Print columns after dropping\n",
    "print(\"\\nColumns after dropping:\")\n",
    "print(df_cleaned.columns)\n",
    "\n",
    "# Display the cleaned DataFrame to visually inspect\n",
    "print(\"\\nCleaned Data:\")\n",
    "print(df_cleaned.head())"
   ]
  },
  {
   "cell_type": "markdown",
   "id": "e27e3d15-4157-4554-92d9-b65c5e4460a5",
   "metadata": {},
   "source": [
    "**Insight :**\n",
    "\n",
    "The unnecessary columns ('Order_ID', 'Customer_Name', 'Order_Date') have been dropped to focus on the restaurant-specific data. The cleaned dataset now contains only relevant columns for further analysis."
   ]
  },
  {
   "cell_type": "code",
   "execution_count": 157,
   "id": "ac1901e2-48be-4f5a-b69e-c742af4c94ac",
   "metadata": {},
   "outputs": [
    {
     "name": "stdout",
     "output_type": "stream",
     "text": [
      "<class 'pandas.core.frame.DataFrame'>\n",
      "RangeIndex: 43 entries, 0 to 42\n",
      "Data columns (total 14 columns):\n",
      " #   Column           Non-Null Count  Dtype  \n",
      "---  ------           --------------  -----  \n",
      " 0   Restaurant_ID    43 non-null     int64  \n",
      " 1   Restaurant_Name  43 non-null     object \n",
      " 2   City             43 non-null     object \n",
      " 3   Cuisine          43 non-null     object \n",
      " 4   Average_Cost     43 non-null     float64\n",
      " 5   Rating           43 non-null     float64\n",
      " 6   Online_Delivery  43 non-null     object \n",
      " 7   Table_Booking    43 non-null     object \n",
      " 8   Order_ID         43 non-null     int64  \n",
      " 9   Restaurant_ID    43 non-null     int64  \n",
      " 10  Customer_Name    43 non-null     object \n",
      " 11  Order_Date       43 non-null     object \n",
      " 12  Order_Amount     43 non-null     float64\n",
      " 13  Delivery_Status  43 non-null     object \n",
      "dtypes: float64(3), int64(3), object(8)\n",
      "memory usage: 4.8+ KB\n"
     ]
    }
   ],
   "source": [
    "df.info()"
   ]
  },
  {
   "cell_type": "markdown",
   "id": "f523c8cf-82c4-4c4b-bc89-55d08c41aa0c",
   "metadata": {},
   "source": [
    "**Insight :**\n",
    "\n",
    "The `df.info()` method provides an overview of the dataset, showing the number of non-null entries in each column and the data types. This helps in understanding the completeness of the data and identifying any missing values in the columns."
   ]
  },
  {
   "cell_type": "markdown",
   "id": "182b04ee-7860-4a13-9665-3d1e2686cf4a",
   "metadata": {},
   "source": [
    "# **Data Visualization**"
   ]
  },
  {
   "cell_type": "markdown",
   "id": "bb362ee2-33b4-478b-89e8-efa647c7d76f",
   "metadata": {},
   "source": [
    "# **Chart 1(Distribution of Average Cost )**"
   ]
  },
  {
   "cell_type": "code",
   "execution_count": 158,
   "id": "89dd4646-8b5a-49a7-93f0-b8d63aea2c08",
   "metadata": {},
   "outputs": [
    {
     "data": {
      "image/png": "[encoded data removed]",
      "text/plain": [
       "<Figure size 1000x600 with 1 Axes>"
      ]
     },
     "metadata": {},
     "output_type": "display_data"
    }
   ],
   "source": [
    "import matplotlib.pyplot as plt\n",
    "import seaborn as sns\n",
    "\n",
    "# Set plot style\n",
    "sns.set(style=\"whitegrid\")\n",
    "\n",
    "# 1. Distribution of Average Cost (Histogram)\n",
    "plt.figure(figsize=(10, 6))\n",
    "sns.histplot(df_cleaned['Average_Cost'], bins=10, kde=True, color='skyblue')\n",
    "plt.title('Distribution of Average Cost', fontsize=15)\n",
    "plt.xlabel('Average Cost', fontsize=12)\n",
    "plt.ylabel('Frequency', fontsize=12)\n",
    "plt.show()\n"
   ]
  },
  {
   "cell_type": "markdown",
   "id": "1b17b868-0ea7-4523-ad84-fc081821932a",
   "metadata": {},
   "source": [
    "**Insight :**\n",
    "\n",
    "The chart reveals that most restaurant orders have an average cost between 600 and 1000, with a noticeable concentration around 1000. This indicates that customers tend to spend within this price range more frequently, suggesting that restaurants in this price bracket might attract a larger customer base. The distribution also shows some variability in the data, with fewer orders in the lower and higher price ranges."
   ]
  },
  {
   "cell_type": "markdown",
   "id": "18040f5c-f6db-494d-aa08-e49c36810f5a",
   "metadata": {},
   "source": [
    "# *Chart 2 (Number of restaurants in each city)*"
   ]
  },
  {
   "cell_type": "code",
   "execution_count": 159,
   "id": "d7ba88be-f1a0-47f8-9fab-9638bc0a520a",
   "metadata": {},
   "outputs": [
    {
     "name": "stderr",
     "output_type": "stream",
     "text": [
      "C:\\Users\\akans\\AppData\\Local\\Temp\\ipykernel_13452\\3620863072.py:7: FutureWarning: \n",
      "\n",
      "Passing `palette` without assigning `hue` is deprecated and will be removed in v0.14.0. Assign the `y` variable to `hue` and set `legend=False` for the same effect.\n",
      "\n",
      "  sns.barplot(x='Count', y='City', data=restaurants_by_city, palette='viridis')\n"
     ]
    },
    {
     "data": {
      "image/png": "[encoded data removed]",
      "text/plain": [
       "<Figure size 1000x600 with 1 Axes>"
      ]
     },
     "metadata": {},
     "output_type": "display_data"
    }
   ],
   "source": [
    "# Count number of restaurants in each city\n",
    "restaurants_by_city = df_cleaned['City'].value_counts().reset_index()\n",
    "restaurants_by_city.columns = ['City', 'Count']\n",
    "\n",
    "# Bar plot\n",
    "plt.figure(figsize=(10, 6))\n",
    "sns.barplot(x='Count', y='City', data=restaurants_by_city, palette='viridis')\n",
    "plt.title('Number of Restaurants by City', fontsize=15)\n",
    "plt.xlabel('Number of Restaurants', fontsize=12)\n",
    "plt.ylabel('City', fontsize=12)\n",
    "plt.show()"
   ]
  },
  {
   "cell_type": "markdown",
   "id": "0f1d7ac0-551a-4610-9fd9-570a714663e2",
   "metadata": {},
   "source": [
    "**Insight :**\n",
    "\n",
    "The bar chart displays the number of restaurants across various cities. Mumbai has the highest number of restaurants, followed by Delhi and Bangalore, indicating these cities are major hubs for dining establishments. Cities like Goa and Jaipur have fewer restaurants, with the bar chart visually highlighting these differences in restaurant distribution."
   ]
  },
  {
   "cell_type": "markdown",
   "id": "bae3fab5-f8e6-4e1d-a1d1-33560c35c642",
   "metadata": {},
   "source": [
    "# *Chart 3 (Delivery Status)*"
   ]
  },
  {
   "cell_type": "code",
   "execution_count": 177,
   "id": "b763c9b8-23fe-4cd7-8aaf-67f4e1f418d4",
   "metadata": {},
   "outputs": [
    {
     "name": "stderr",
     "output_type": "stream",
     "text": [
      "C:\\Users\\akans\\AppData\\Local\\Temp\\ipykernel_13452\\2119909157.py:3: FutureWarning: \n",
      "\n",
      "Passing `palette` without assigning `hue` is deprecated and will be removed in v0.14.0. Assign the `x` variable to `hue` and set `legend=False` for the same effect.\n",
      "\n",
      "  sns.countplot(x='Delivery_Status', data=df_cleaned, palette='Set2')\n"
     ]
    },
    {
     "data": {
      "image/png": "[encoded data removed]",
      "text/plain": [
       "<Figure size 800x600 with 1 Axes>"
      ]
     },
     "metadata": {},
     "output_type": "display_data"
    }
   ],
   "source": [
    "# Delivery Status Count (Bar Plot)\n",
    "plt.figure(figsize=(8, 6))\n",
    "sns.countplot(x='Delivery_Status', data=df_cleaned, palette='Set2')\n",
    "plt.title('Delivery Status Count', fontsize=15)\n",
    "plt.xlabel('Delivery Status', fontsize=12)\n",
    "plt.ylabel('Count', fontsize=12)\n",
    "plt.show()"
   ]
  },
  {
   "cell_type": "markdown",
   "id": "64b33ac6-02a0-4add-88af-6fd7882e3642",
   "metadata": {},
   "source": [
    "**Insight :**\n",
    "\n",
    "The bar chart shows the distribution of delivery statuses for orders. The majority of orders have been delivered, as indicated by the tallest bar. Fewer orders are pending or canceled, suggesting that most orders are successfully completed while a small proportion face delays or cancellations."
   ]
  },
  {
   "cell_type": "markdown",
   "id": "254d285a-0b95-418f-a612-209b8d20d404",
   "metadata": {},
   "source": [
    "# *Chart 4 (Cuisine Types)*"
   ]
  },
  {
   "cell_type": "code",
   "execution_count": 178,
   "id": "7793d80c-cceb-4c4f-9b09-e9c4e73434e5",
   "metadata": {},
   "outputs": [
    {
     "name": "stderr",
     "output_type": "stream",
     "text": [
      "C:\\Users\\akans\\AppData\\Local\\Temp\\ipykernel_13452\\455140988.py:3: FutureWarning: \n",
      "\n",
      "Passing `palette` without assigning `hue` is deprecated and will be removed in v0.14.0. Assign the `x` variable to `hue` and set `legend=False` for the same effect.\n",
      "\n",
      "  sns.countplot(x='Cuisine', data=df_cleaned, palette='Set3')\n"
     ]
    },
    {
     "data": {
      "image/png": "[encoded data removed]",
      "text/plain": [
       "<Figure size 1000x600 with 1 Axes>"
      ]
     },
     "metadata": {},
     "output_type": "display_data"
    }
   ],
   "source": [
    "# Cuisine Type Count (Bar Plot)\n",
    "plt.figure(figsize=(10, 6))\n",
    "sns.countplot(x='Cuisine', data=df_cleaned, palette='Set3')\n",
    "plt.title('Cuisine Type Count', fontsize=15)\n",
    "plt.xlabel('Cuisine', fontsize=12)\n",
    "plt.ylabel('Count', fontsize=12)\n",
    "plt.xticks(rotation=45)\n",
    "plt.show()"
   ]
  },
  {
   "cell_type": "markdown",
   "id": "ed00b4bf-e08c-4c1b-9b50-de2927ea1d71",
   "metadata": {},
   "source": [
    "**Insight :**\n",
    "\n",
    "The graph indicates that **Indian cuisine** is the most popular with a count of 8, significantly higher than other cuisines. Other cuisines like **Italian, Barbecue, Fusion, and Cafe** follow at a much lower count, highlighting the dominance of Indian cuisine in the dataset."
   ]
  },
  {
   "cell_type": "markdown",
   "id": "e921bc22-75c4-4575-a2c2-feb6055dce23",
   "metadata": {},
   "source": [
    "# *Chart 5 (Online delivery availability)*"
   ]
  },
  {
   "cell_type": "code",
   "execution_count": 164,
   "id": "e381a820-5b7b-438c-9667-da60c5185eb7",
   "metadata": {},
   "outputs": [
    {
     "data": {
      "image/png": "[encoded data removed]",
      "text/plain": [
       "<Figure size 800x800 with 1 Axes>"
      ]
     },
     "metadata": {},
     "output_type": "display_data"
    }
   ],
   "source": [
    "# Count for online delivery availability\n",
    "online_delivery_counts = df_cleaned['Online_Delivery'].value_counts()\n",
    "\n",
    "# Pie chart\n",
    "plt.figure(figsize=(8, 8))\n",
    "plt.pie(\n",
    "    online_delivery_counts,\n",
    "    labels=online_delivery_counts.index,\n",
    "    autopct='%1.1f%%',\n",
    "    colors=['lightblue', 'lightgreen'],\n",
    "    startangle=90,\n",
    "    textprops={'fontsize': 12}\n",
    ")\n",
    "plt.title('Online Delivery Availability', fontsize=15)\n",
    "plt.show()"
   ]
  },
  {
   "cell_type": "markdown",
   "id": "f12765a8-02f1-46c5-8c96-953fe7c99e51",
   "metadata": {},
   "source": [
    "**Insight :**\n",
    "\n",
    "The chart shows that 62.8% of customers prefer online orders, indicating a strong demand for online services. However, 37.2% still choose offline options, emphasizing the need for maintaining both channels."
   ]
  },
  {
   "cell_type": "markdown",
   "id": "d77e94d6-c033-492f-8c95-4dd6814765d1",
   "metadata": {},
   "source": [
    "# *Chart 6 (Order amount distribution)*"
   ]
  },
  {
   "cell_type": "code",
   "execution_count": 162,
   "id": "bdde9220-e123-4754-88df-ce5866154100",
   "metadata": {},
   "outputs": [
    {
     "data": {
      "image/png": "[encoded data removed]",
      "text/plain": [
       "<Figure size 1000x600 with 1 Axes>"
      ]
     },
     "metadata": {},
     "output_type": "display_data"
    }
   ],
   "source": [
    "# Histogram for order amount distribution\n",
    "plt.figure(figsize=(10, 6))\n",
    "sns.histplot(df_cleaned['Order_Amount'], kde=True, color='blue', bins=10)\n",
    "plt.title('Order Amount Distribution', fontsize=15)\n",
    "plt.xlabel('Order Amount', fontsize=12)\n",
    "plt.ylabel('Frequency', fontsize=12)\n",
    "plt.show()"
   ]
  },
  {
   "cell_type": "markdown",
   "id": "a88ee02b-98cb-48cd-9b28-6b7171542d24",
   "metadata": {},
   "source": [
    "**Insight :**\n",
    "\n",
    "The graph indicates that most order amounts fall between **600 and 1000**, with fewer high-value orders above **1200**, showing a slightly right-skewed distribution. This suggests the majority of transactions are mid-range, with occasional large orders."
   ]
  },
  {
   "cell_type": "markdown",
   "id": "1c2b59cd-1d9f-4260-9659-a0c4a27fa4d1",
   "metadata": {},
   "source": [
    "# *Chart 7 (Top 5 restaurants)*"
   ]
  },
  {
   "cell_type": "code",
   "execution_count": 163,
   "id": "5b82f7ec-542d-4b67-8cf3-231719e138cf",
   "metadata": {},
   "outputs": [
    {
     "data": {
      "image/png": "[encoded data removed]",
      "text/plain": [
       "<Figure size 800x800 with 1 Axes>"
      ]
     },
     "metadata": {},
     "output_type": "display_data"
    }
   ],
   "source": [
    "# Extract top 5 restaurants by rating\n",
    "top_restaurants = df_cleaned[['Restaurant_Name', 'Rating']].sort_values(by='Rating', ascending=False).head(5)\n",
    "\n",
    "# Plotting the pie chart\n",
    "plt.figure(figsize=(8, 8))\n",
    "plt.pie(\n",
    "    top_restaurants['Rating'], \n",
    "    labels=top_restaurants['Restaurant_Name'], \n",
    "    autopct='%1.1f%%', \n",
    "    startangle=140, \n",
    "    colors=sns.color_palette('coolwarm', n_colors=5)\n",
    ")\n",
    "plt.title('Top 5 Restaurants by Rating (Pie Chart)', fontsize=15)\n",
    "plt.show()"
   ]
  },
  {
   "cell_type": "markdown",
   "id": "13fbb03c-512e-4c3c-81f2-0ac90447f110",
   "metadata": {},
   "source": [
    "**Insight :**\n",
    "\n",
    "The graph indicates that **Seafood Shack** and **Sushi Samba** have the highest ratings, each contributing **20.2%** of the total, while the other three restaurants, including **Bistro Bliss**, hold slightly lower shares at **19.8%**. This suggests a close competition among the top-rated restaurants."
   ]
  },
  {
   "cell_type": "markdown",
   "id": "45274271-8b8a-40ee-ba7a-da57e9da61ca",
   "metadata": {},
   "source": [
    "# **Conclusions:**\n",
    "\n",
    "1. **Customer Spending Patterns**:  \n",
    "   Most restaurant orders fall within the 600-1000 price range, indicating a strong preference for mid-range pricing. This suggests that restaurants targeting this price bracket can attract a broader customer base.\n",
    "\n",
    "2. **Restaurant Distribution**:  \n",
    "   Major cities like Mumbai, Delhi, and Bangalore host the highest number of restaurants, with Mumbai being the leading hub. However, cities like Goa and Jaipur, with fewer restaurants, offer opportunities for expansion due to lower competition.\n",
    "\n",
    "3. **Cuisine Preferences**:  \n",
    "   **Indian cuisine** is the most popular, outpacing other cuisines like Italian, Barbecue, and Fusion. This highlights the importance of focusing on regional and popular Indian dishes to cater to customer preferences.\n",
    "\n",
    "4. **Online Ordering Dominance**:  \n",
    "   A significant 62.8% of customers prefer online ordering, underscoring the importance of maintaining an efficient online platform to meet customer demands and enhance convenience.\n",
    "\n",
    "5. **Successful Delivery Operations**:  \n",
    "   The majority of orders are successfully delivered, with fewer facing delays or cancellations. While the current system works well, there is room to reduce the number of pending or canceled orders to improve overall service quality.\n",
    "\n",
    "6. **Top-Rated Restaurants**:  \n",
    "   Restaurants like **Seafood Shack** and **Sushi Samba** lead in ratings, with a substantial share of total ratings, suggesting that these establishments have gained customer loyalty and satisfaction, setting a benchmark for others.\n"
   ]
  },
  {
   "cell_type": "markdown",
   "id": "dd99d868-dccd-459d-a33a-bd33657147e6",
   "metadata": {},
   "source": [
    "# **Future Recommendations:**\n",
    "\n",
    "1. **Focus on Mid-Range Pricing**:  \n",
    "   Given the trend toward average order costs between 600 and 1000, restaurants should tailor their menus to offer a variety of options within this price range. Introducing combo deals, value meals, or special promotions that fall within this price bracket could help attract a larger customer base.\n",
    "\n",
    "2. **Expand in High-Demand Cities**:  \n",
    "   With Mumbai, Delhi, and Bangalore hosting the majority of restaurants, there is a clear demand in these urban centers. For restaurant chains looking to expand, focusing on these cities is crucial for gaining market share. However, restaurants should also consider areas like Goa and Jaipur, where competition is relatively lower, offering an opportunity for new entrants to thrive.\n",
    "\n",
    "3. **Enhance Online Ordering Systems**:  \n",
    "   With 62.8% of customers opting for online orders, restaurants should continue to invest in user-friendly online ordering systems. Enhancing the online ordering experience through features like delivery tracking, personalized recommendations, and loyalty rewards could further boost sales and customer retention.\n",
    "\n",
    "4. **Improve Delivery Operations**:  \n",
    "   While most orders are successfully delivered, restaurants should focus on improving the efficiency of their delivery operations to reduce the proportion of pending or canceled orders. This can be achieved by optimizing delivery routes, collaborating with reliable delivery partners, and using advanced tracking systems to monitor order status.\n",
    "\n",
    "5. **Promote Popular Cuisines and Diversify Offerings**:  \n",
    "   Indian cuisine's dominance in the dataset should be leveraged by offering more diverse options within this category, such as regional specialties or fusion dishes. At the same time, restaurants should consider expanding into less popular cuisines to cater to niche markets, creating a balance between popular and unique offerings.\n",
    "\n",
    "6. **Monitor and Leverage Customer Reviews**:  \n",
    "   The dominance of top-rated restaurants like **Seafood Shack** and **Sushi Samba** presents an opportunity to monitor what makes these establishments successful. Analyzing customer reviews and feedback for these top-rated restaurants can help identify best practices in food quality, service, and ambiance. Restaurants can adopt these practices to improve their own ratings and customer satisfaction.\n"
   ]
  },
  {
   "cell_type": "code",
   "execution_count": null,
   "id": "a9fbc179-df1e-46ce-bccf-46ab916f8c13",
   "metadata": {},
   "outputs": [],
   "source": []
  }
 ],
 "metadata": {
  "kernelspec": {
   "display_name": "Python 3 (ipykernel)",
   "language": "python",
   "name": "python3"
  },
  "language_info": {
   "codemirror_mode": {
    "name": "ipython",
    "version": 3
   },
   "file_extension": ".py",
   "mimetype": "text/x-python",
   "name": "python",
   "nbconvert_exporter": "python",
   "pygments_lexer": "ipython3",
   "version": "3.10.11"
  }
 },
 "nbformat": 4,
 "nbformat_minor": 5
}
